{
 "cells": [
  {
   "metadata": {},
   "cell_type": "markdown",
   "source": [
    "# РК 2  \n",
    "**Вариант 21**  \n",
    "**Группа РТ5-61Б**  \n",
    "**Студент:** Топорин Богдан  \n",
    "\n",
    "## Методы  \n",
    "В данной работе были использованы два метода регрессии:  \n",
    "\n",
    "- **Дерево решений** (*Decision Tree Regressor*)  \n",
    "- **Градиентный бустинг** (*Gradient Boosting Regressor*)  \n",
    "\n",
    "## Датасет  \n",
    "Был использован датасет **Formula E World Championship Race Results** с платформы *Kaggle*.  \n"
   ],
   "id": "112705dc3571002e"
  },
  {
   "metadata": {
    "ExecuteTime": {
     "end_time": "2025-06-09T19:26:31.107549Z",
     "start_time": "2025-06-09T19:26:24.890359Z"
    }
   },
   "cell_type": "code",
   "source": [
    "import pandas as pd\n",
    "import numpy as np\n",
    "from sklearn.model_selection import train_test_split, GridSearchCV\n",
    "from sklearn.preprocessing import LabelEncoder\n",
    "from sklearn.tree import DecisionTreeRegressor\n",
    "from sklearn.ensemble import GradientBoostingRegressor\n",
    "from sklearn.metrics import mean_absolute_error, r2_score\n",
    "\n",
    "# Загрузка данных\n",
    "data = pd.read_csv('data/formula_e.csv')\n",
    "\n",
    "# Приводим Started и Pos к числам\n",
    "data['Started'] = pd.to_numeric(data['Started'], errors='coerce')\n",
    "data['Pos'] = pd.to_numeric(data['Pos'], errors='coerce')\n",
    "\n",
    "# Чистим DriverNumber от '#'\n",
    "data['DriverNumber'] = data['DriverNumber'].astype(str).str.replace('#', '', regex=False)\n",
    "data['DriverNumber'] = pd.to_numeric(data['DriverNumber'], errors='coerce')\n",
    "\n",
    "# Обработка пропусков\n",
    "num_cols = ['Started', 'Pos', 'DriverNumber']\n",
    "for col in num_cols:\n",
    "    data[col] = data[col].fillna(data[col].median())\n",
    "\n",
    "# Обработка категориальных признаков\n",
    "# Склеиваем DriverFirstName + DriverLastName\n",
    "data['DriverFullName'] = data['DriverFirstName'].astype(str) + '_' + data['DriverLastName'].astype(str)\n",
    "\n",
    "categorical_cols = ['SeasonName', 'RaceName', 'DriverFullName', 'Team']\n",
    "for col in categorical_cols:\n",
    "    data[col] = data[col].fillna('Unknown')\n",
    "    le = LabelEncoder()\n",
    "    data[col] = le.fit_transform(data[col].astype(str))\n",
    "\n",
    "# Выбор признаков и целевой переменной\n",
    "features = [\n",
    "    'SeasonName', 'RaceName', 'Started', 'DriverNumber', 'DriverFullName', 'Team'\n",
    "]\n",
    "X = data[features]\n",
    "y = data['Pos']\n",
    "\n",
    "# Деление данных\n",
    "X_train, X_test, y_train, y_test = train_test_split(\n",
    "    X, y, test_size=0.2, random_state=42\n",
    ")\n",
    "\n",
    "# Decision Tree\n",
    "dt_params = {\n",
    "    'max_depth': [5, 10, 15, 20, None],\n",
    "    'min_samples_split': [2, 5, 10],\n",
    "    'min_samples_leaf': [1, 2, 4]\n",
    "}\n",
    "\n",
    "dt = DecisionTreeRegressor(random_state=42)\n",
    "dt_grid = GridSearchCV(dt, dt_params, cv=5, scoring='neg_mean_absolute_error', n_jobs=-1)\n",
    "dt_grid.fit(X_train, y_train)\n",
    "\n",
    "print(f\"Лучшие параметры дерева: {dt_grid.best_params_}\")\n",
    "\n",
    "# Gradient Boosting\n",
    "gb_params = {\n",
    "    'n_estimators': [100, 200],\n",
    "    'learning_rate': [0.01, 0.1],\n",
    "    'max_depth': [3, 5, 7],\n",
    "    'min_samples_split': [2, 5],\n",
    "    'min_samples_leaf': [1, 2]\n",
    "}\n",
    "\n",
    "gb = GradientBoostingRegressor(random_state=42)\n",
    "gb_grid = GridSearchCV(gb, gb_params, cv=5, scoring='neg_mean_absolute_error', n_jobs=-1)\n",
    "gb_grid.fit(X_train, y_train)\n",
    "\n",
    "print(f\"Лучшие параметры градиентного бустинга: {gb_grid.best_params_}\")\n",
    "\n",
    "# Предсказания\n",
    "y_pred_dt = dt_grid.predict(X_test)\n",
    "y_pred_gb = gb_grid.predict(X_test)\n",
    "\n",
    "# Оценка моделей\n",
    "def evaluate_model(y_true, y_pred, model_name):\n",
    "    mae = mean_absolute_error(y_true, y_pred)\n",
    "    r2 = r2_score(y_true, y_pred)\n",
    "    rmse = np.sqrt(((y_true - y_pred) ** 2).mean())\n",
    "    print(f\"{model_name} — MAE: {mae:.3f}, RMSE: {rmse:.3f}, R2: {r2:.3f}\")\n",
    "\n",
    "evaluate_model(y_test, y_pred_dt, \"Decision Tree (tuned)\")\n",
    "evaluate_model(y_test, y_pred_gb, \"Gradient Boosting (tuned)\")\n"
   ],
   "id": "d00d57b2faab6bcc",
   "outputs": [
    {
     "name": "stdout",
     "output_type": "stream",
     "text": [
      "Лучшие параметры дерева: {'max_depth': 5, 'min_samples_leaf': 4, 'min_samples_split': 10}\n",
      "Лучшие параметры градиентного бустинга: {'learning_rate': 0.1, 'max_depth': 3, 'min_samples_leaf': 2, 'min_samples_split': 5, 'n_estimators': 100}\n",
      "Decision Tree (tuned) — MAE: 4.701, RMSE: 5.792, R2: 0.033\n",
      "Gradient Boosting (tuned) — MAE: 4.615, RMSE: 5.618, R2: 0.091\n"
     ]
    }
   ],
   "execution_count": 6
  }
 ],
 "metadata": {
  "kernelspec": {
   "display_name": "Python 3",
   "language": "python",
   "name": "python3"
  },
  "language_info": {
   "codemirror_mode": {
    "name": "ipython",
    "version": 2
   },
   "file_extension": ".py",
   "mimetype": "text/x-python",
   "name": "python",
   "nbconvert_exporter": "python",
   "pygments_lexer": "ipython2",
   "version": "2.7.6"
  }
 },
 "nbformat": 4,
 "nbformat_minor": 5
}
